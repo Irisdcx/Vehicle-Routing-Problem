{
 "cells": [
  {
   "cell_type": "markdown",
   "metadata": {},
   "source": [
    "Project final reports\n",
    "======================================\n",
    "#### XXX<br>Computer Sciences Department<br>University of Wisconsin-Madison\n",
    "#### Decmber xx, 2023"
   ]
  },
  {
   "cell_type": "markdown",
   "metadata": {},
   "source": [
    "### Cargo Distribution Route Optimization in California\n",
    "## By: \n",
    "## Introduction\n",
    "### Problem StatementOur project is the optimization of cargo distribution routes in California, where each city has warehouses, and dispatchable vehicles, and cargo must be transported by vehicles for inter-city transportation or co-located delivery, and where there are limitations on the number of vehicles that can be dispatched at the same time, and where the total cost of dispatching is minimized by planning reasonable dispatch routes to meet the demand in each city. Factors to be considered include the number of vehicles, the demand in each city, regular and overtime wages, and commuting time between cities.l. "
   ]
  },
  {
   "cell_type": "markdown",
   "metadata": {},
   "source": [
    "### Data:\n",
    "Ten cities were randomly selected from California and the population size of each city was obtained. "
   ]
  },
  {
   "cell_type": "code",
   "execution_count": 1,
   "metadata": {},
   "outputs": [
    {
     "name": "stdout",
     "output_type": "stream",
     "text": [
      "     pop2023 usps           name\n",
      "12    930862   CA       San Jose\n",
      "32    549242   CA         Fresno\n",
      "58    322538   CA      Riverside\n",
      "102   219419   CA        Fremont\n",
      "108   216456   CA  Moreno Valley\n",
      "109   214718   CA        Fontana\n",
      "120   201155   CA         Oxnard\n",
      "169   153160   CA        Hayward\n",
      "251   115761   CA       Carlsbad\n",
      "257   114450   CA       Richmond\n",
      "    pop2023 usps      name\n",
      "12   930862   CA  San Jose\n"
     ]
    }
   ],
   "source": [
    "import pandas as pd\n",
    "\n",
    "# Read the CSV file\n",
    "file_path = 'us-cities-table.csv'\n",
    "columns_to_read = ['name', 'pop2023', 'usps']\n",
    "df = pd.read_csv(file_path, usecols=columns_to_read)\n",
    "\n",
    "# Filter rows where usps='CA'\n",
    "ca_data = df[df['usps'] == 'CA']\n",
    "\n",
    "selected_rows = ca_data.sample(n=10)\n",
    "\n",
    "# Sort by the 'pop2023' attribute in descending order\n",
    "sorted_df = selected_rows.sort_values(by='pop2023', ascending=False)\n",
    "print(sorted_df)\n",
    "\n",
    "filtered_data = sorted_df[sorted_df['pop2023'] > 600000]\n",
    "print(filtered_data)"
   ]
  },
  {
   "cell_type": "markdown",
   "metadata": {},
   "source": [
    "### Calculate commuting time between cities\n",
    "With the ten cities previously obtained, the commuting time between cities is calculated through the api of goole map.With the ten cities previously obtained, the commuting time between cities is calculated through the api of goole map, and the results of the calculation will be prepared for the next step of the calculation"
   ]
  },
  {
   "cell_type": "code",
   "execution_count": 2,
   "metadata": {
    "jupyter": {
     "outputs_hidden": false
    },
    "pycharm": {
     "is_executing": true
    }
   },
   "outputs": [],
   "source": [
    "from serpapi import GoogleSearch\n",
    "\n",
    "destination_cities = ['Los Angeles', 'San Francisco', 'Sacramento', 'San Jose', 'Oakland',\n",
    "                      'Anaheim', 'Fresno', 'Long Beach', 'Santa Monica', 'San Diego']\n",
    "\n",
    "common_params = {\n",
    "    \"engine\": \"google_maps_directions\",\n",
    "    \"api_key\": \"668089e225ed59d57386d1df1d4f81b222afc963a4a3a1fb816f3997278d33e9\",\n",
    "    \"travel_mode\": \"0\"\n",
    "}"
   ]
  },
  {
   "cell_type": "markdown",
   "metadata": {},
   "source": [
    "The list of cities was obtained through previous calculations and accessed to the Google Maps api in preparation for calculating the commute time between cities"
   ]
  },
  {
   "cell_type": "code",
   "execution_count": 3,
   "metadata": {},
   "outputs": [
    {
     "name": "stdout",
     "output_type": "stream",
     "text": [
      "[0, inf, inf, inf, inf, inf, inf, inf, inf, inf]\n",
      "[inf, 0, inf, inf, inf, inf, inf, inf, inf, inf]\n",
      "[inf, inf, 0, inf, inf, inf, inf, inf, inf, inf]\n",
      "[inf, inf, inf, 0, inf, inf, inf, inf, inf, inf]\n",
      "[inf, inf, inf, inf, 0, inf, inf, inf, inf, inf]\n",
      "[inf, inf, inf, inf, inf, 0, inf, inf, inf, inf]\n",
      "[inf, inf, inf, inf, inf, inf, 0, inf, inf, inf]\n",
      "[inf, inf, inf, inf, inf, inf, inf, 0, inf, inf]\n",
      "[inf, inf, inf, inf, inf, inf, inf, inf, 0, inf]\n",
      "[inf, inf, inf, inf, inf, inf, inf, inf, inf, 0]\n"
     ]
    }
   ],
   "source": [
    "travel_time = [[0] * len(destination_cities) for _ in range(len(destination_cities))]\n",
    "\n",
    "for i, city1 in enumerate(destination_cities):\n",
    "    common_params[\"start_addr\"] = f\"{city1}, USA\"\n",
    "\n",
    "    for j, city2 in enumerate(destination_cities):\n",
    "        common_params[\"end_addr\"] = f\"{city2}, USA\"\n",
    "        if city1 == city2:\n",
    "            travel_time[i][j] = 0\n",
    "            continue\n",
    "        try:\n",
    "            search = GoogleSearch(common_params)\n",
    "            results = search.get_dict()\n",
    "            directions = results.get(\"directions\", [])\n",
    "            if directions:\n",
    "                travel_time[i][j] = round(int(directions[0]['duration'])/60/60, 2)\n",
    "                print(directions)\n",
    "            else:\n",
    "                travel_time[i][j] = float('inf')\n",
    "\n",
    "        except Exception as e:\n",
    "            print(f\"Error processing request for {city1} to {city2}: {e}\")\n",
    "            travel_time[i][j] = float('inf')\n",
    "\n",
    "for row in travel_time:\n",
    "    print(row)"
   ]
  },
  {
   "cell_type": "markdown",
   "metadata": {},
   "source": [
    "The results are calculated and stored in a table, so that the output is in a form that is easy to use in the next step, and the data represent this commuting time between one city and another, in trivial units"
   ]
  },
  {
   "cell_type": "markdown",
   "metadata": {},
   "source": [
    "## Optimization Problem Approach\n",
    "### Mixed-Integer Programming\n",
    "MIP is a mathematical optimization method used to solve complex optimization problems that involve both integer and continuous variables. In MIP problems, the objective is to minimize or maximize a linear objective function while satisfying a set of linear equality and inequality constraints, with some variables required to be integers.The general form of a MIP problem can be represented as follows:\n",
    "\n",
    "**Minimize (or Maximize):** Z = c1x1 + c2x2 + ... + cnxn\n",
    "\n",
    "**Subject to constraints:**\n",
    "a11x1 + a12x2 + ... + a1nxn <= b1\n",
    "a21x1 + a22x2 + ... + a2nxn <= b2\n",
    "...\n",
    "am1x1 + am2x2 + ... + amnxn <= bm\n",
    "\n",
    "Where,\n",
    "- Z is the value of the objective function to be minimized (or maximized).\n",
    "- x1, x2, ..., xn are the variables in the optimization problem, with some required to be integers.\n",
    "- c1, c2, ..., cn are coefficients associated with the variables in the objective function.\n",
    "- aij represents elements of the constraint matrix, describing relationships between constraints.\n",
    "- b1, b2, ..., bm are the right-hand side values of the constraints.\n",
    "\n",
    "MIP problems are typically solved using linear programming methods, but due to the presence of integer variables, they are often more challenging to solve than pure linear programming problems. MIP is a powerful mathematical tool used to address optimization problems involving both integer and continuous variables, with widespread applications across various domains."
   ]
  },
  {
   "cell_type": "markdown",
   "metadata": {},
   "source": [
    "## Model building:\n",
    "\n",
    "#### Sets:\n",
    "- `i`: Cities, \\(i \\in \\{i1, i2, ..., i10\\}\\)\n",
    "- `k`: Vehicles, \\(k \\in \\{k1, k2, ..., k5\\}\\)\n",
    "- `ij(i,j)`: City pairs\n",
    "\n",
    "#### Scalars:\n",
    "- `max_capacity`: Maximum capacity of vehicles (e.g., 35)\n",
    "- `base_transportation_cost`: Base transportation cost (e.g., 50)\n",
    "- `overtime_cost`: Overtime cost (e.g., 100)\n",
    "\n",
    "#### Parameters:\n",
    "- `demand(i)`: Demand for each city\n",
    "- `work_time(i,j)`: Work time between cities\n",
    "- `max_working_hours(k)`: Maximum working hours f\n",
    "time\\_cost} \\right)\n",
    "\n",
    "Customized parameters such as the demand of the city, the maximum carrying capacity of the vehicle, the number of vehicles that can be dispatched at the same time"
   ]
  },
  {
   "cell_type": "markdown",
   "metadata": {},
   "source": [
    "### Objective Function\n",
    "The objective function is to minimize the total cost, which includes the base transportation cost and overtime cost for each route.\n",
    "\n",
    "$$\n",
    "\\text{Objective Function (obj)}: \\min \\left( \\sum_{i,j,k} \\left( \\text{work\\_time}(i, j) \\cdot x(i, j, k) \\cdot \\text{base\\_transportation\\_cost} + \\max(0, \\text{work\\_time}(i, j) - \\text{max\\_working\\_hours}(k)) \\cdot x(i, j, k) \\cdot \\text{overtime\\_cost} \\right) \\right)\n",
    "$$\n",
    "\n",
    "### Constraints\n",
    "#### Demand Constraint:\n",
    "$$\n",
    "\\sum_{j,k} x(i, j, k) = \\sum_{jj,k} x(jj, i, k) \\quad \\forall i\n",
    "$$\n",
    "\n",
    "\n",
    "#### Continuous Route Constraint:\n",
    "$$ \\sum_j (y(i, j, k) - y(j, i, k) + x(i, j, k) - x(j, i, k)) = \\sum_j y(i, j, k) - \\sum_j y(j, i, k) \\quad \\forall i \\neq k $$\n",
    "\n",
    "\n",
    "#### No Self-Route Constraint:\n",
    "$$ x(i, i, k) = 0 \\quad \\forall i, k \\quad \\text{where } i = k $$\n",
    "\n",
    "\n",
    "#### At Least One Route Constraint:\n",
    "$$ \\sum_k \\sum_j x(i, j, k) \\geq 1 \\quad \\forall i $$\n",
    "\n",
    "\n",
    "#### Capacity Constraint:\n",
    "$$ \\sum_{i,j} \\text{demand}(i) \\cdot x(i, j, k) \\leq \\text{max\\_capacity} \\quad \\forall k $$"
   ]
  },
  {
   "cell_type": "code",
   "execution_count": 4,
   "metadata": {
    "scrolled": true
   },
   "outputs": [
    {
     "name": "stdout",
     "output_type": "stream",
     "text": [
      "Warning: Found different GAMS system directories in PATH and DYLD_LIBRARY_PATH . Using the one from PATH\n",
      "Objective value: 576.0 $\n",
      "vehicles k1: city2-> city4-> city5-> city2\n",
      "vehicles k2: city3-> city7-> city3\n",
      "vehicles k3: city1-> city8-> city1\n",
      "vehicles k4: city6-> city10-> city6\n",
      "vehicles k5: city1-> city9-> city1\n"
     ]
    }
   ],
   "source": [
    "from gams import GamsWorkspace\n",
    "from gams import *\n",
    "\n",
    "ws = GamsWorkspace(debug=DebugLevel.KeepFiles)\n",
    "\n",
    "gams_code = '''\n",
    "Sets\n",
    "  i 'cities'    /i1*i10/\n",
    "  k 'vehicles'  /k1*k5/\n",
    "  ij(i,i) 'city pairs'\n",
    ";\n",
    "\n",
    "Alias(i,j,jj);\n",
    "\n",
    "ij(i,j) = yes$(ord(i) <> ord(j));\n",
    "\n",
    "Scalars\n",
    "max_capacity 'maximum capacity' /35/\n",
    "base_transportation_cost 'base transportation cost' /50/\n",
    "overtime_cost 'overtime cost' /100/\n",
    ";\n",
    "\n",
    "Parameters\n",
    "  demand(i) 'demand for each city'\n",
    "  /i1 15, i2 1, i3 8, i4 14, i5 4, i6 14, i7 12, i8 16, i9 15, i10 11/\n",
    ";\n",
    "\n",
    "parameter work_time(i,j) 'work time between cities'\n",
    "  / i1.i2  6.19, i1.i3  5.74, i1.i4  5.45, i1.i5  5.78, i1.i6  0.44, i1.i7  3.38, i1.i8  0.41, i1.i9  0.33, i1.i10 1.77\n",
    "    i2.i1  6.19, i2.i3  1.36, i2.i4  0.79, i2.i5  0.26, i2.i6  6.39, i2.i7  2.96, i2.i8  6.39, i2.i9  6.02, i2.i10 8.03\n",
    "    i3.i1  5.74, i3.i2  1.36, i3.i4  1.96, i3.i5  1.31, i3.i6  6.44, i3.i7  2.73, i3.i8  6.46, i3.i9  6.1,  i3.i10 8.09\n",
    "    i4.i1  5.45, i4.i2  0.79, i4.i3  1.96, i4.i5  0.69, i4.i6  5.69, i4.i7  2.47, i4.i8  5.33, i4.i9  5.0,  i4.i10 6.75\n",
    "    i5.i1  5.78, i5.i2  0.26, i5.i3  1.31, i5.i4  0.69, i5.i6  6.16, i5.i7  2.79, i5.i8  6.17, i5.i9  5.8,  i5.i10 7.75\n",
    "    i6.i1  0.44, i6.i2  6.39, i6.i3  6.44, i6.i4  5.69, i6.i5  6.16, i6.i7  3.77, i6.i8  0.44, i6.i9  0.62, i6.i10 1.42\n",
    "    i7.i1  3.38, i7.i2  2.96, i7.i3  2.73, i7.i4  2.47, i7.i5  2.79, i7.i6  3.77, i7.i8  3.77, i7.i9  3.43, i7.i10 5.15\n",
    "    i8.i1  0.41, i8.i2  6.39, i8.i3  6.46, i8.i4  5.33, i8.i5  6.17, i8.i6  0.44, i8.i7  3.77, i8.i9  0.49, i8.i10 1.63\n",
    "    i9.i1  0.33, i9.i2  6.02, i9.i3  6.1,  i9.i4  5.0,  i9.i5  5.8,  i9.i6  0.62, i9.i7  3.43, i9.i8  0.49, i9.i10 1.96\n",
    "    i10.i1 1.77, i10.i2 8.03, i10.i3 8.09, i10.i4 6.75, i10.i5 7.75, i10.i6 1.42, i10.i7 5.15, i10.i8 1.63, i10.i9 1.96\n",
    "/;\n",
    "\n",
    "parameter\n",
    "max_working_hours(k)\n",
    "/k1   8\n",
    "k2    8\n",
    "k3    8\n",
    "k4    8\n",
    "k5    8\n",
    "/;\n",
    "\n",
    "Binary Variables\n",
    "x(i,j,k) 'binary decision variable for routes'\n",
    "y(i,j,k) 'binary decision variable for connected routes'\n",
    ";\n",
    "\n",
    "Variables\n",
    "obj  'objective function';\n",
    "\n",
    "Equations\n",
    "objective 'objective function'\n",
    "demand_constraint(i) 'demand constraint for each city'\n",
    "capacity_constraint(k) 'capacity constraint for each vehicle'\n",
    "no_self_route(i,k) 'constraint for no self-route'\n",
    "at_least_one_route(i) 'constraint to ensure each city is visited at least once'\n",
    "continuous_route(i,k) 'The route continuity constraint for each vehicle'\n",
    ";\n",
    "\n",
    "objective ..\n",
    "obj =e= sum((i,j,k)$(ord(i) <> ord(j)),\n",
    "    work_time(i,j) * x(i,j,k) * base_transportation_cost\n",
    "    + max(0, work_time(i,j) - max_working_hours(k)) * x(i,j,k) * overtime_cost\n",
    "  );\n",
    "\n",
    "demand_constraint(i) ..\n",
    "sum( (j,k)$((ord(j) <> ord(i))),x(i,j,k) )\n",
    "  =E= sum( (jj,k)$((ord(jj) <> ord(i))),x(jj,i,k) );\n",
    "  \n",
    "continuous_route(i,k)$(ord(i) <> ord(k))..\n",
    "    sum(j, y(i,j,k) - y(j,i,k) + x(i,j,k) - x(j,i,k)) =E= sum(j, y(i,j,k)) - sum(j, y(j,i,k));\n",
    "\n",
    "\n",
    "no_self_route(i,k)$(ord(i) = ord(k))..\n",
    "    x(i, i, k) =e= 0;\n",
    "\n",
    "at_least_one_route(i)..\n",
    "    sum(k, sum(j$(ord(j)<>ord(i)), x(i,j,k))) =G= 1;\n",
    "\n",
    "\n",
    "capacity_constraint(k) ..\n",
    "sum( (i, j)$(ord(i) <> ord(j)),\n",
    "    demand(i) * x(i,j,k) ) =L= max_capacity;\n",
    "    \n",
    "\n",
    "Model DeliveryOptimization /all/;\n",
    "\n",
    "Solve DeliveryOptimization using MIP minimizing obj;\n",
    "\n",
    "Display obj.L, x.L, x.M;\n",
    "\n",
    "'''\n",
    "\n",
    "job = ws.add_job_from_string(gams_code)\n",
    "job.run()\n",
    "\n",
    "result_obj = job.out_db['obj']\n",
    "result_x = job.out_db['x']\n",
    "\n",
    "result_obj_record = result_obj.first_record()\n",
    "print(\"Objective value:\", result_obj_record.level,\"$\")\n",
    "\n",
    "# print(\"\\nVariable x values:\")\n",
    "# for rec in result_x:\n",
    "#     if rec.get_level() != 0.0:  \n",
    "#         print(rec.key(0), rec.key(1), rec.key(2))\n",
    "\n",
    "organized_data = {\"k1\": [], \"k2\": [], \"k3\": [], \"k4\": [], \"k5\": []}\n",
    "\n",
    "for rec in result_x:\n",
    "    if rec.get_level() != 0.0:  \n",
    "        key = rec.key(2)  \n",
    "        value = rec.key(0)  \n",
    "        organized_data[key].append(value)  \n",
    "\n",
    "for key in organized_data:\n",
    "    organized_data[key].append(organized_data[key][0])\n",
    "\n",
    "for key in sorted(organized_data.keys()):\n",
    "    values = '-> '.join([f'city{v[1:]}' for v in organized_data[key]])\n",
    "    print(f\"vehicles {key}: {values}\")\n"
   ]
  },
  {
   "cell_type": "markdown",
   "metadata": {},
   "source": [
    "### Visualization\n",
    "Draw a road map for dispatching vehicles, with each of the five lines representing the routes of five vehicles."
   ]
  },
  {
   "cell_type": "code",
   "execution_count": 25,
   "metadata": {},
   "outputs": [
    {
     "name": "stdout",
     "output_type": "stream",
     "text": [
      "[[(37.7749, -122.4194), (37.3382, -121.8863), (37.8049, -122.2711), (37.7749, -122.4194)], [(38.5816, -121.4944), (36.7783, -119.4179), (38.5816, -121.4944)], [(34.0522, -118.2437), (33.7701, -118.1937), (34.0522, -118.2437)], [(33.8366, -117.9143), (32.7157, -117.1611), (33.8366, -117.9143)], [(34.0522, -118.2437), (34.0242, -118.4965), (34.0522, -118.2437)]]\n"
     ]
    }
   ],
   "source": [
    "import webbrowser\n",
    "import folium\n",
    "\n",
    "formatted_values = []\n",
    "\n",
    "for key in sorted(organized_data.keys()):\n",
    "    \n",
    "    values = organized_data[key]\n",
    "\n",
    "    formatted_values.append([values])\n",
    "\n",
    "# City names\n",
    "cities = ['Los Angeles', 'San Francisco', 'Sacramento', 'San Jose', 'Oakland',\n",
    "          'Anaheim', 'Fresno', 'Long Beach', 'Santa Monica', 'San Diego']\n",
    "\n",
    "# Coordinates for each city\n",
    "cities_points = {\n",
    "    'Los Angeles': (34.0522, -118.2437),\n",
    "    'San Francisco': (37.7749, -122.4194),\n",
    "    'Sacramento': (38.5816, -121.4944),\n",
    "    'San Jose': (37.3382, -121.8863),\n",
    "    'Oakland': (37.8049, -122.2711),\n",
    "    'Anaheim': (33.8366, -117.9143),\n",
    "    'Fresno': (36.7783, -119.4179),\n",
    "    'Long Beach': (33.7701, -118.1937),\n",
    "    'Santa Monica': (34.0242, -118.4965),\n",
    "    'San Diego': (32.7157, -117.1611)\n",
    "}\n",
    "\n",
    "\n",
    "# Convert data to coordinates\n",
    "coordinates_data = []\n",
    "\n",
    "for sublist in formatted_values:\n",
    "    coordinates_sublist = [(cities_points[cities[int(city[1:]) - 1]][0], cities_points[cities[int(city[1:]) - 1]][1]) for city in sublist[0]]\n",
    "    coordinates_data.append(coordinates_sublist)\n",
    "\n",
    "print(coordinates_data)\n",
    "\n",
    "\n",
    "# Function to plot routes on a map\n",
    "def plot_routes_on_map(routes_waypoints, filename='routes_map.html'):\n",
    "    my_map = folium.Map(location=[routes_waypoints[0][0][0], routes_waypoints[0][0][1]], zoom_start=4)\n",
    "    colors = ['blue', 'green', 'red', 'orange', 'purple', 'brown', 'pink']\n",
    "    for route_id, waypoints in enumerate(routes_waypoints):\n",
    "        color = colors[route_id % len(colors)]  # Cycle through the color list\n",
    "        popup_text = f'Route {route_id + 1}'\n",
    "        folium.PolyLine(locations=waypoints, color=color, weight=2.5, opacity=1, popup=popup_text).add_to(my_map)\n",
    "        for point_id, point in enumerate(waypoints):\n",
    "            folium.Marker(location=point, icon=folium.Icon(color=color),\n",
    "                          popup=f'Point {point_id + 1}').add_to(my_map)\n",
    "            folium.Marker(location=point,\n",
    "                          icon=folium.DivIcon(html=f'<div style=\"font-size: 12; color: black;\">{point_id + 1}</div>'),\n",
    "                          popup=f'Point {point_id + 1}').add_to(my_map)\n",
    "    my_map.save(filename)\n",
    "    webbrowser.open(filename)\n",
    "\n",
    "plot_routes_on_map(coordinates_data, filename='routes_map.html')"
   ]
  },
  {
   "cell_type": "markdown",
   "metadata": {},
   "source": [
    "![picture](roadmap.png)"
   ]
  },
  {
   "cell_type": "markdown",
   "metadata": {},
   "source": [
    "## Conclusion\n",
    "Inter-city transportation or delivery of goods by dispatching vehicles from four cities: City 1, City 2, City 3 and City 6.The final minimum cost is $576 for five vehicles departing from each of the four warehouses and returning to the departing warehouse"
   ]
  },
  {
   "cell_type": "code",
   "execution_count": 26,
   "metadata": {},
   "outputs": [
    {
     "name": "stdout",
     "output_type": "stream",
     "text": [
      "Objective value: 576.0 $\n",
      "vehicles k1: city2-> city4-> city5-> city2\n",
      "vehicles k2: city3-> city7-> city3\n",
      "vehicles k3: city1-> city8-> city1\n",
      "vehicles k4: city6-> city10-> city6\n",
      "vehicles k5: city1-> city9-> city1\n"
     ]
    }
   ],
   "source": [
    "result_obj_record = result_obj.first_record()\n",
    "print(\"Objective value:\", result_obj_record.level,\"$\")\n",
    "\n",
    "for key in sorted(organized_data.keys()):\n",
    "    values = '-> '.join([f'city{v[1:]}' for v in organized_data[key]])\n",
    "    print(f\"vehicles {key}: {values}\")"
   ]
  },
  {
   "cell_type": "markdown",
   "metadata": {},
   "source": [
    "## further extension\n",
    "The next step can be to study the VRP with Time Windows (VRPTW) problem with the addition of the time window factor, where each customer has a specified time window for service, i.e., it specifies the timeframe within which the customer can receive service. The goal is to find a set of vehicle paths that will satisfy all customer needs and complete the service within each customer's time window. This factor is not currently taken into account"
   ]
  }
 ],
 "metadata": {
  "kernelspec": {
   "display_name": "Python 3 (ipykernel)",
   "language": "python",
   "name": "python3"
  },
  "language_info": {
   "codemirror_mode": {
    "name": "ipython",
    "version": 3
   },
   "file_extension": ".py",
   "mimetype": "text/x-python",
   "name": "python",
   "nbconvert_exporter": "python",
   "pygments_lexer": "ipython3",
   "version": "3.10.13"
  }
 },
 "nbformat": 4,
 "nbformat_minor": 4
}
